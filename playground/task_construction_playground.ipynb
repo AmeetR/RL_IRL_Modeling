{
 "cells": [
  {
   "cell_type": "code",
   "execution_count": 1,
   "metadata": {},
   "outputs": [],
   "source": [
    "import numpy as np\n",
    "import pandas as pd"
   ]
  },
  {
   "cell_type": "code",
   "execution_count": 5,
   "metadata": {},
   "outputs": [],
   "source": [
    "class task:\n",
    "    \"\"\"\n",
    "    This class is for a definition of a RL task. The items that \n",
    "    must be defined is an array of possible actions, a state space, \n",
    "    a probability distribution with each of the actions. \n",
    "    \"\"\"\n",
    "    actions = []\n",
    "    states = []\n",
    "    prob_actions = {}\n",
    "    def __init__(self, actions, states, prob_actions):\n",
    "        self.actions = actions\n",
    "        self.states = states\n",
    "        self.prob_actions = prob_actions"
   ]
  },
  {
   "cell_type": "code",
   "execution_count": null,
   "metadata": {},
   "outputs": [],
   "source": []
  }
 ],
 "metadata": {
  "kernelspec": {
   "display_name": "Python 3",
   "language": "python",
   "name": "python3"
  },
  "language_info": {
   "codemirror_mode": {
    "name": "ipython",
    "version": 3
   },
   "file_extension": ".py",
   "mimetype": "text/x-python",
   "name": "python",
   "nbconvert_exporter": "python",
   "pygments_lexer": "ipython3",
   "version": "3.6.7"
  }
 },
 "nbformat": 4,
 "nbformat_minor": 2
}
