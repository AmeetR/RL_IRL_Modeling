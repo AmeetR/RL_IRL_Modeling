{
 "cells": [
  {
   "cell_type": "code",
   "execution_count": 116,
   "metadata": {},
   "outputs": [],
   "source": [
    "import matplotlib.pyplot as plt\n",
    "import pandas as pd"
   ]
  },
  {
   "cell_type": "code",
   "execution_count": 117,
   "metadata": {},
   "outputs": [],
   "source": [
    "AIC = pd.read_csv(\"../output/AIC.csv\", index_col = None)"
   ]
  },
  {
   "cell_type": "code",
   "execution_count": 118,
   "metadata": {},
   "outputs": [
    {
     "data": {
      "text/plain": [
       "<matplotlib.axes._subplots.AxesSubplot at 0x7fba00763048>"
      ]
     },
     "execution_count": 118,
     "metadata": {},
     "output_type": "execute_result"
    },
    {
     "data": {
      "image/png": "[encoded data removed]",
      "text/plain": [
       "<Figure size 432x288 with 1 Axes>"
      ]
     },
     "metadata": {
      "needs_background": "light"
     },
     "output_type": "display_data"
    }
   ],
   "source": [
    "AIC.plot.bar(x = \"Name\", y = \"AIC\", rot = 0)\n",
    "#plt.savefig('../output/AIC.png', dpi = 120)"
   ]
  },
  {
   "cell_type": "code",
   "execution_count": 79,
   "metadata": {
    "collapsed": true
   },
   "outputs": [
    {
     "data": {
      "text/html": [
       "<div>\n",
       "<style scoped>\n",
       "    .dataframe tbody tr th:only-of-type {\n",
       "        vertical-align: middle;\n",
       "    }\n",
       "\n",
       "    .dataframe tbody tr th {\n",
       "        vertical-align: top;\n",
       "    }\n",
       "\n",
       "    .dataframe thead th {\n",
       "        text-align: right;\n",
       "    }\n",
       "</style>\n",
       "<table border=\"1\" class=\"dataframe\">\n",
       "  <thead>\n",
       "    <tr style=\"text-align: right;\">\n",
       "      <th></th>\n",
       "      <th>Name</th>\n",
       "      <th>AIC</th>\n",
       "    </tr>\n",
       "  </thead>\n",
       "  <tbody>\n",
       "    <tr>\n",
       "      <th>0</th>\n",
       "      <td>Standard Epsilon</td>\n",
       "      <td>219.314218</td>\n",
       "    </tr>\n",
       "    <tr>\n",
       "      <th>1</th>\n",
       "      <td>Updating Epsilon</td>\n",
       "      <td>229.135772</td>\n",
       "    </tr>\n",
       "    <tr>\n",
       "      <th>2</th>\n",
       "      <td>Standard Softmax</td>\n",
       "      <td>154.256553</td>\n",
       "    </tr>\n",
       "    <tr>\n",
       "      <th>3</th>\n",
       "      <td>Updating Softmax</td>\n",
       "      <td>176.995175</td>\n",
       "    </tr>\n",
       "  </tbody>\n",
       "</table>\n",
       "</div>"
      ],
      "text/plain": [
       "               Name         AIC\n",
       "0  Standard Epsilon  219.314218\n",
       "1  Updating Epsilon  229.135772\n",
       "2  Standard Softmax  154.256553\n",
       "3  Updating Softmax  176.995175"
      ]
     },
     "execution_count": 79,
     "metadata": {},
     "output_type": "execute_result"
    }
   ],
   "source": [
    "AIC"
   ]
  },
  {
   "cell_type": "code",
   "execution_count": 128,
   "metadata": {},
   "outputs": [
    {
     "name": "stdout",
     "output_type": "stream",
     "text": [
      "     Iteration  State 1   State 2\n",
      "0          0.0  0.77103  0.851707\n",
      "1          1.0  0.77103  0.851707\n",
      "2          2.0  0.77103  0.851707\n",
      "3          3.0  0.77103  0.851707\n",
      "4          4.0  0.77103  0.851707\n",
      "5          5.0  0.77103  0.851707\n",
      "6          6.0  0.77103  0.851707\n",
      "7          7.0  0.77103  0.851707\n",
      "8          8.0  0.77103  0.851707\n",
      "9          9.0  0.77103  0.851707\n",
      "10        10.0  0.77103  0.851707\n",
      "11        11.0  0.77103  0.851707\n",
      "12        12.0  0.77103  0.851707\n",
      "13        13.0  0.77103  0.851707\n",
      "14        14.0  0.77103  0.851707\n",
      "15        15.0  0.77103  0.851707\n",
      "16        16.0  0.77103  0.851707\n",
      "17        17.0  0.77103  0.851707\n",
      "18        18.0  0.77103  0.851707\n",
      "19        19.0  0.77103  0.851707\n",
      "20        20.0  0.77103  0.851707\n",
      "21        21.0  0.77103  0.851707\n",
      "22        22.0  0.77103  0.851707\n",
      "23        23.0  0.77103  0.851707\n",
      "24        24.0  0.77103  0.851707\n",
      "25        25.0  0.77103  0.851707\n",
      "26        26.0  0.77103  0.851707\n",
      "27        27.0  0.77103  0.851707\n",
      "28        28.0  0.77103  0.851707\n",
      "29        29.0  0.77103  0.851707\n",
      "..         ...      ...       ...\n",
      "470      470.0  0.77103  0.851707\n",
      "471      471.0  0.77103  0.851707\n",
      "472      472.0  0.77103  0.851707\n",
      "473      473.0  0.77103  0.851707\n",
      "474      474.0  0.77103  0.851707\n",
      "475      475.0  0.77103  0.851707\n",
      "476      476.0  0.77103  0.851707\n",
      "477      477.0  0.77103  0.851707\n",
      "478      478.0  0.77103  0.851707\n",
      "479      479.0  0.77103  0.851707\n",
      "480      480.0  0.77103  0.851707\n",
      "481      481.0  0.77103  0.851707\n",
      "482      482.0  0.77103  0.851707\n",
      "483      483.0  0.77103  0.851707\n",
      "484      484.0  0.77103  0.851707\n",
      "485      485.0  0.77103  0.851707\n",
      "486      486.0  0.77103  0.851707\n",
      "487      487.0  0.77103  0.851707\n",
      "488      488.0  0.77103  0.851707\n",
      "489      489.0  0.77103  0.851707\n",
      "490      490.0  0.77103  0.851707\n",
      "491      491.0  0.77103  0.851707\n",
      "492      492.0  0.77103  0.851707\n",
      "493      493.0  0.77103  0.851707\n",
      "494      494.0  0.77103  0.851707\n",
      "495      495.0  0.77103  0.851707\n",
      "496      496.0  0.77103  0.851707\n",
      "497      497.0  0.77103  0.851707\n",
      "498      498.0  0.77103  0.851707\n",
      "499      499.0  0.77103  0.851707\n",
      "\n",
      "[500 rows x 3 columns]\n"
     ]
    },
    {
     "data": {
      "image/png": "[encoded data removed]",
      "text/plain": [
       "<Figure size 432x288 with 1 Axes>"
      ]
     },
     "metadata": {
      "needs_background": "light"
     },
     "output_type": "display_data"
    }
   ],
   "source": [
    "with open(\"../output/Updating_Epsilon.txt\", 'r') as outfile:\n",
    "    epsilons = outfile.read()[1:-1].split(\"},\")\n",
    "    epsilons = [e[1:] for e in epsilons]\n",
    "\n",
    "    df = pd.DataFrame(columns = [\"Iteration\", \"State 1\", \"State 2\"])\n",
    "    for i in range(len(epsilons)):\n",
    "        iteration = i \n",
    "        states = epsilons[i].split(\",\")\n",
    "        s1 = float(states[0].split(\":\")[1])\n",
    "        s2 = float(states[1].split(\":\")[1][:-1])\n",
    "        df.loc[i] = [iteration, s1, s2]\n",
    "    print(df)\n",
    "    df.drop(\"Iteration\", axis = 1).plot(ylim = [0,1])\n"
   ]
  },
  {
   "cell_type": "code",
   "execution_count": 126,
   "metadata": {},
   "outputs": [
    {
     "data": {
      "text/plain": [
       "<matplotlib.axes._subplots.AxesSubplot at 0x7fba00ca8be0>"
      ]
     },
     "execution_count": 126,
     "metadata": {},
     "output_type": "execute_result"
    },
    {
     "data": {
      "image/png": "[encoded data removed]",
      "text/plain": [
       "<Figure size 432x288 with 1 Axes>"
      ]
     },
     "metadata": {
      "needs_background": "light"
     },
     "output_type": "display_data"
    }
   ],
   "source": [
    "df.drop(\"Iteration\", axis = 1).plot(ylim = [0,1])"
   ]
  },
  {
   "cell_type": "code",
   "execution_count": 124,
   "metadata": {},
   "outputs": [
    {
     "name": "stdout",
     "output_type": "stream",
     "text": [
      "     Iteration        State 1        State 2\n",
      "0          0.0  1.066453e-119   1.005179e-11\n",
      "1          1.0  1.066453e-119   1.005179e-11\n",
      "2          2.0  1.066453e-119   1.005179e-11\n",
      "3          3.0  1.066453e-119   1.005179e-11\n",
      "4          4.0  1.066453e-119   1.005179e-11\n",
      "5          5.0  1.066453e-119   1.005179e-11\n",
      "6          6.0  1.066453e-119   1.005179e-11\n",
      "7          7.0  1.066453e-119   1.005179e-11\n",
      "8          8.0  1.066453e-119   1.005179e-11\n",
      "9          9.0  1.066453e-119   1.005179e-11\n",
      "10        10.0  1.066453e-119   1.005179e-11\n",
      "11        11.0  1.066453e-119   1.005179e-11\n",
      "12        12.0  1.066453e-119   1.005179e-11\n",
      "13        13.0  1.066453e-119   1.005179e-11\n",
      "14        14.0  1.066453e-119   1.005179e-11\n",
      "15        15.0  1.066453e-119   1.005179e-11\n",
      "16        16.0  1.066453e-119   1.005179e-11\n",
      "17        17.0  1.066453e-119   1.005179e-11\n",
      "18        18.0  1.066453e-119   1.005179e-11\n",
      "19        19.0  1.066453e-119   1.005179e-11\n",
      "20        20.0  1.066453e-119   1.005179e-11\n",
      "21        21.0  1.066453e-119   1.005179e-11\n",
      "22        22.0  1.066453e-119   1.005179e-11\n",
      "23        23.0  1.066453e-119   1.005179e-11\n",
      "24        24.0  1.066453e-119   1.005179e-11\n",
      "25        25.0  1.066453e-119   1.005179e-11\n",
      "26        26.0  1.066453e-119   1.005179e-11\n",
      "27        27.0  1.066453e-119   1.005179e-11\n",
      "28        28.0  1.066453e-119   1.005179e-11\n",
      "29        29.0  1.066453e-119   1.005179e-11\n",
      "..         ...            ...            ...\n",
      "170      170.0  1.066453e-119   1.005179e-11\n",
      "171      171.0  1.066453e-119   1.005179e-11\n",
      "172      172.0  1.066453e-119   1.005179e-11\n",
      "173      173.0  1.066453e-119   1.005179e-11\n",
      "174      174.0  1.066453e-119   1.005179e-11\n",
      "175      175.0  1.066453e-119   1.005179e-11\n",
      "176      176.0  1.066453e-119   1.005179e-11\n",
      "177      177.0  1.066453e-119   1.005179e-11\n",
      "178      178.0  1.066453e-119   1.005179e-11\n",
      "179      179.0  1.066453e-119   1.005179e-11\n",
      "180      180.0  1.066453e-119   1.005179e-11\n",
      "181      181.0  1.066453e-119   1.005179e-11\n",
      "182      182.0  1.066453e-119   1.005179e-11\n",
      "183      183.0  1.066453e-119   1.005179e-11\n",
      "184      184.0  1.066453e-119   1.005179e-11\n",
      "185      185.0  1.066453e-119   1.005179e-11\n",
      "186      186.0  1.066453e-119   1.005179e-11\n",
      "187      187.0  1.066453e-119   1.005179e-11\n",
      "188      188.0  1.066453e-119   1.005179e-11\n",
      "189      189.0  1.066453e-119   1.005179e-11\n",
      "190      190.0  1.066453e-119   1.005179e-11\n",
      "191      191.0  1.066453e-119   1.005179e-11\n",
      "192      192.0  1.066453e-119   1.005179e-11\n",
      "193      193.0  1.066453e-119   1.005179e-11\n",
      "194      194.0  1.066453e-119   1.005179e-11\n",
      "195      195.0  1.066453e-119   1.005179e-11\n",
      "196      196.0  1.066453e-119   1.005179e-11\n",
      "197      197.0  1.066453e-119   1.005179e-11\n",
      "198      198.0  1.066453e-119   1.005179e-11\n",
      "199      199.0  1.066453e-119  1.005179e-116\n",
      "\n",
      "[200 rows x 3 columns]\n"
     ]
    },
    {
     "data": {
      "text/plain": [
       "<matplotlib.axes._subplots.AxesSubplot at 0x7fba00b33b00>"
      ]
     },
     "execution_count": 124,
     "metadata": {},
     "output_type": "execute_result"
    },
    {
     "data": {
      "image/png": "[encoded data removed]",
      "text/plain": [
       "<Figure size 432x288 with 1 Axes>"
      ]
     },
     "metadata": {
      "needs_background": "light"
     },
     "output_type": "display_data"
    }
   ],
   "source": [
    "with open(\"../output/Updating_Beta.txt\", 'r') as outfile:\n",
    "    epsilons = outfile.read()[1:-1].split(\"},\")\n",
    "    epsilons = [e[1:] for e in epsilons]\n",
    "\n",
    "    df = pd.DataFrame(columns = [\"Iteration\", \"State 1\", \"State 2\"])\n",
    "    for i in range(len(epsilons)):\n",
    "        iteration = i \n",
    "        states = epsilons[i].split(\",\")\n",
    "        s1 = float(states[0].split(\":\")[1])\n",
    "        s2 = float(states[1].split(\":\")[1][:-1])\n",
    "        df.loc[i] = [iteration, s1, s2]\n",
    "    print(df)\n",
    "df.drop(\"Iteration\", axis = 1).plot()"
   ]
  },
  {
   "cell_type": "code",
   "execution_count": null,
   "metadata": {},
   "outputs": [],
   "source": []
  }
 ],
 "metadata": {
  "kernelspec": {
   "display_name": "Python 3",
   "language": "python",
   "name": "python3"
  },
  "language_info": {
   "codemirror_mode": {
    "name": "ipython",
    "version": 3
   },
   "file_extension": ".py",
   "mimetype": "text/x-python",
   "name": "python",
   "nbconvert_exporter": "python",
   "pygments_lexer": "ipython3",
   "version": "3.6.7"
  }
 },
 "nbformat": 4,
 "nbformat_minor": 2
}
