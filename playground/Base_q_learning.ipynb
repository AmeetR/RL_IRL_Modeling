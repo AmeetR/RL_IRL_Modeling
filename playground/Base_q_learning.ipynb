{
 "cells": [
  {
   "cell_type": "code",
   "execution_count": 14,
   "metadata": {},
   "outputs": [],
   "source": [
    "import numpy as np\n",
    "from typing import *\n",
    "import random\n",
    "import matplotlib.pyplot as plt\n",
    "import simanneal"
   ]
  },
  {
   "cell_type": "code",
   "execution_count": 29,
   "metadata": {},
   "outputs": [],
   "source": [
    "class Task: \n",
    "    \"\"\"\n",
    "    This class is to define an environment that the agent will act on. \n",
    "    \"\"\"\n",
    "    states: list = []\n",
    "    rewards: Dict[str, Callable] = {}\n",
    "    actions: Dict[str, str]\n",
    "    T_probs = Dict[str, float]\n",
    "        \n",
    "    def __init__(self, states: list, rewards: Dict[str, Callable], actions: Dict[str,str], \\\n",
    "                 transition: Dict[str, float] = {}) -> None:\n",
    "        self.states = states\n",
    "        self.rewards = rewards\n",
    "        self.actions = actions\n",
    "        self.T_probs = transition\n",
    "        \n",
    "    def make_action(self, state: str, action: str) -> Tuple[str, float]: \n",
    "        \"\"\"\n",
    "        This function takes in a proposed state and action, executes it on \n",
    "        the environment, then returns a tuple with the next state as the \n",
    "        first value and the reward as the second value. \n",
    "        \"\"\"\n",
    "        pass\n",
    "\n",
    "\n",
    "class Parameters:\n",
    "    \"\"\"\n",
    "    This is just a shell class to hold the parameters\n",
    "    \"\"\"\n",
    "    learning_rate: float = 0 #alpha, how quick the agent learns\n",
    "    discount_factor: float = 0 # discount rate\n",
    "    exploration_prob: float = 0 #epsilon\n",
    "    def __init__(self):\n",
    "        self.learning_rate = random.uniform(0, 1)\n",
    "        self.discount_faction = random.uniform(0, 1)\n",
    "    def set_params(self, learning_rate: float, discount_factor: float) -> None:\n",
    "        self.learning_rate = learning_rate\n",
    "        self.discount_factor = discount_factor\n",
    "        \n",
    "    def set_learning_rate(self, alpha: float) -> None:\n",
    "        self.learning_rate = alpha\n",
    "        \n",
    "    def set_discount_factor(self, gamma: float) -> None: \n",
    "        self.discount_factor = gamma\n",
    "        \n",
    "\n",
    "    def set_random_params(self) -> None:\n",
    "        self.__init__()\n",
    "\n",
    "\n",
    "class q_learning_agent:\n",
    "    q_values: Dict[Tuple[str, str], float] = {}\n",
    "    def __init__(self, iterations: int = 1000, actions: Dict[str, list] = {}, states: list = [],\\\n",
    "                 rewards: Dict[str, int] = {}, parameters: Parameters = Parameters()) -> None:\n",
    "        self.iterations = iterations\n",
    "        self.actions = actions\n",
    "        self.states = states\n",
    "        self.parameters = parameters\n",
    "        self.rewards = rewards\n",
    "        self.initialize_q_params()\n",
    "        \n",
    "    def initialize_q_params(self) -> None:\n",
    "        for state in self.states: \n",
    "            for action in self.actions[state]:\n",
    "                self.q_values[(state, action)] = 0\n",
    "                \n",
    "    def update_q_values(self, state, action, next_state) -> None: \n",
    "        alpha = self.parameters.learning_rate\n",
    "        gamma = self.parameters.discount_factor\n",
    "        \n",
    "        old_q = self.q_values[(state, action)]\n",
    "        #new_q = (1-alpha)* old_q + alpha * (self.rewards[action] + \\\n",
    "        #                                            gamma #* self.q_values[()\n",
    "        #self.q_values[(state, action)] = new_q\n",
    "        #self.q_values[(state, action)]\n",
    "                \n",
    "    def choose_action(self) -> str:\n",
    "        return max(self.q_values, key= self.q_values.get)[1]\n",
    "        \n",
    "    def run_q_learning(self) -> list:\n",
    "        actions: list  = []\n",
    "        i: int = 0\n",
    "        while i <= self.iterations:\n",
    "            i += 1\n",
    "            self.update_q_values()\n",
    "            actions.append(self.choose_action())\n",
    "        print(actions)\n",
    "        return actions"
   ]
  },
  {
   "cell_type": "code",
   "execution_count": 30,
   "metadata": {},
   "outputs": [
    {
     "ename": "TypeError",
     "evalue": "update_q_values() missing 3 required positional arguments: 'state', 'action', and 'next_state'",
     "output_type": "error",
     "traceback": [
      "\u001b[0;31m---------------------------------------------------------------------------\u001b[0m",
      "\u001b[0;31mTypeError\u001b[0m                                 Traceback (most recent call last)",
      "\u001b[0;32m<ipython-input-30-a9c8ebf604ec>\u001b[0m in \u001b[0;36m<module>\u001b[0;34m\u001b[0m\n\u001b[1;32m      4\u001b[0m \u001b[0mrewards\u001b[0m \u001b[0;34m=\u001b[0m \u001b[0;34m{\u001b[0m\u001b[0;34m\"left\"\u001b[0m\u001b[0;34m:\u001b[0m \u001b[0;36m1\u001b[0m\u001b[0;34m,\u001b[0m \u001b[0;34m\"center\"\u001b[0m\u001b[0;34m:\u001b[0m \u001b[0;34m-\u001b[0m\u001b[0;36m1\u001b[0m\u001b[0;34m,\u001b[0m \u001b[0;34m\"right\"\u001b[0m\u001b[0;34m:\u001b[0m \u001b[0;36m10\u001b[0m\u001b[0;34m,\u001b[0m \u001b[0;34m\"nothing\"\u001b[0m\u001b[0;34m:\u001b[0m \u001b[0;34m-\u001b[0m\u001b[0;36m1\u001b[0m\u001b[0;34m}\u001b[0m\u001b[0;34m\u001b[0m\u001b[0;34m\u001b[0m\u001b[0m\n\u001b[1;32m      5\u001b[0m \u001b[0mqlearn\u001b[0m \u001b[0;34m=\u001b[0m \u001b[0mq_learning_agent\u001b[0m\u001b[0;34m(\u001b[0m\u001b[0mactions\u001b[0m \u001b[0;34m=\u001b[0m \u001b[0mactions\u001b[0m\u001b[0;34m,\u001b[0m \u001b[0mstates\u001b[0m \u001b[0;34m=\u001b[0m \u001b[0mstates\u001b[0m\u001b[0;34m,\u001b[0m \u001b[0mrewards\u001b[0m \u001b[0;34m=\u001b[0m \u001b[0mrewards\u001b[0m\u001b[0;34m)\u001b[0m\u001b[0;34m\u001b[0m\u001b[0;34m\u001b[0m\u001b[0m\n\u001b[0;32m----> 6\u001b[0;31m \u001b[0mqlearn\u001b[0m\u001b[0;34m.\u001b[0m\u001b[0mrun_q_learning\u001b[0m\u001b[0;34m(\u001b[0m\u001b[0;34m)\u001b[0m\u001b[0;34m\u001b[0m\u001b[0;34m\u001b[0m\u001b[0m\n\u001b[0m",
      "\u001b[0;32m<ipython-input-29-ba6b5ecc5d2e>\u001b[0m in \u001b[0;36mrun_q_learning\u001b[0;34m(self)\u001b[0m\n\u001b[1;32m     83\u001b[0m         \u001b[0;32mwhile\u001b[0m \u001b[0mi\u001b[0m \u001b[0;34m<=\u001b[0m \u001b[0mself\u001b[0m\u001b[0;34m.\u001b[0m\u001b[0miterations\u001b[0m\u001b[0;34m:\u001b[0m\u001b[0;34m\u001b[0m\u001b[0;34m\u001b[0m\u001b[0m\n\u001b[1;32m     84\u001b[0m             \u001b[0mi\u001b[0m \u001b[0;34m+=\u001b[0m \u001b[0;36m1\u001b[0m\u001b[0;34m\u001b[0m\u001b[0;34m\u001b[0m\u001b[0m\n\u001b[0;32m---> 85\u001b[0;31m             \u001b[0mself\u001b[0m\u001b[0;34m.\u001b[0m\u001b[0mupdate_q_values\u001b[0m\u001b[0;34m(\u001b[0m\u001b[0;34m)\u001b[0m\u001b[0;34m\u001b[0m\u001b[0;34m\u001b[0m\u001b[0m\n\u001b[0m\u001b[1;32m     86\u001b[0m             \u001b[0mactions\u001b[0m\u001b[0;34m.\u001b[0m\u001b[0mappend\u001b[0m\u001b[0;34m(\u001b[0m\u001b[0mself\u001b[0m\u001b[0;34m.\u001b[0m\u001b[0mchoose_action\u001b[0m\u001b[0;34m(\u001b[0m\u001b[0;34m)\u001b[0m\u001b[0;34m)\u001b[0m\u001b[0;34m\u001b[0m\u001b[0;34m\u001b[0m\u001b[0m\n\u001b[1;32m     87\u001b[0m         \u001b[0mprint\u001b[0m\u001b[0;34m(\u001b[0m\u001b[0mactions\u001b[0m\u001b[0;34m)\u001b[0m\u001b[0;34m\u001b[0m\u001b[0;34m\u001b[0m\u001b[0m\n",
      "\u001b[0;31mTypeError\u001b[0m: update_q_values() missing 3 required positional arguments: 'state', 'action', and 'next_state'"
     ]
    }
   ],
   "source": [
    "\n",
    "states = [\"center\"]\n",
    "actions = {\"center\": [\"left\", \"right\", \"nothing\"]}\n",
    "rewards = {\"left\": 1, \"center\": -1, \"right\": 10, \"nothing\": -1}\n",
    "qlearn = q_learning_agent(actions = actions, states = states, rewards = rewards)\n",
    "qlearn.run_q_learning()\n"
   ]
  },
  {
   "cell_type": "code",
   "execution_count": null,
   "metadata": {},
   "outputs": [],
   "source": []
  },
  {
   "cell_type": "code",
   "execution_count": 5,
   "metadata": {},
   "outputs": [
    {
     "data": {
      "image/png": "[encoded data removed]",
      "text/plain": [
       "<matplotlib.figure.Figure at 0x11cf846a0>"
      ]
     },
     "metadata": {},
     "output_type": "display_data"
    }
   ],
   "source": [
    "plt.hist(np.random.normal(5,25, 100), density = True)\n",
    "plt.show()"
   ]
  },
  {
   "cell_type": "code",
   "execution_count": 7,
   "metadata": {},
   "outputs": [],
   "source": [
    "class plot_normal:\n",
    "    \"\"\"\n",
    "    This is a very basic plotting class to plot normal \n",
    "    distributions along with a fit curve. Here's a standard\n",
    "    use case: \n",
    "    normal = np.random.normal(mean,std,5000)\n",
    "    w1,x1,z1 = plt.hist(normal, 100, density = True)\n",
    "    hist = plot_normal(mean,std, x1)\n",
    "    plot = hist.dist_curve()\n",
    "    \"\"\"\n",
    "\n",
    "    def __init__(self, a1: float, b1: float, c1: float) -> None:\n",
    "        self.a1 = a1\n",
    "        self.b1 = b1\n",
    "        self.c1 = c1\n",
    "        \n",
    "    def dist_curve(self):\n",
    "        plt.plot(self.c1, 1/(self.b1 * np.sqrt(2 * np.pi)) *\n",
    "            np.exp( - (self.c1 - self.a1)**2 / (2 * self.b1**2) ), linewidth=2, color='y')\n",
    "        plt.show()"
   ]
  },
  {
   "cell_type": "code",
   "execution_count": 8,
   "metadata": {},
   "outputs": [
    {
     "data": {
      "image/png": "[encoded data removed]",
      "text/plain": [
       "<Figure size 432x288 with 1 Axes>"
      ]
     },
     "metadata": {
      "needs_background": "light"
     },
     "output_type": "display_data"
    }
   ],
   "source": [
    "normal = np.random.normal(25,1000,5000)\n",
    "w1,x1,z1 = plt.hist(normal, 100, density = True)\n",
    "hist = plot_normal(25,1000, x1)\n",
    "plot = hist.dist_curve()"
   ]
  },
  {
   "cell_type": "code",
   "execution_count": 10,
   "metadata": {},
   "outputs": [
    {
     "data": {
      "text/plain": [
       "function"
      ]
     },
     "execution_count": 10,
     "metadata": {},
     "output_type": "execute_result"
    }
   ],
   "source": [
    "def test():\n",
    "    print(\"rip\")\n",
    "    \n",
    "type(test)"
   ]
  },
  {
   "cell_type": "code",
   "execution_count": null,
   "metadata": {},
   "outputs": [],
   "source": []
  }
 ],
 "metadata": {
  "kernelspec": {
   "display_name": "Python 3",
   "language": "python",
   "name": "python3"
  },
  "language_info": {
   "codemirror_mode": {
    "name": "ipython",
    "version": 3
   },
   "file_extension": ".py",
   "mimetype": "text/x-python",
   "name": "python",
   "nbconvert_exporter": "python",
   "pygments_lexer": "ipython3",
   "version": "3.6.7"
  }
 },
 "nbformat": 4,
 "nbformat_minor": 2
}
