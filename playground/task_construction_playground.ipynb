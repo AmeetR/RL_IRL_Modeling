{
 "cells": [
  {
   "cell_type": "code",
   "execution_count": 45,
   "metadata": {},
   "outputs": [],
   "source": [
    "import numpy as np\n",
    "import pandas as pd\n",
    "import random\n",
    "import matplotlib.pyplot as plt"
   ]
  },
  {
   "cell_type": "code",
   "execution_count": 46,
   "metadata": {},
   "outputs": [],
   "source": [
    "class parameters:\n",
    "    \"\"\"\n",
    "    This is just a shell class to hold the parameters\n",
    "    \"\"\"\n",
    "    learning_rate: float = 0 #alpha, how quick the agent learns\n",
    "    discount_factor: float = 0 #gamma, explore/exploit\n",
    "    def __init__(self):\n",
    "        self.learning_rate = random.uniform(0, 1)\n",
    "        self.discount_faction = random.uniform(0, 1)\n",
    "    def set_params(self, learning_rate: float, discount_factor: float) -> None:\n",
    "        self.learning_rate = learning_rate\n",
    "        self.discount_factor = discount_factor\n",
    "        \n",
    "    def set_learning_rate(self, alpha: float) -> None:\n",
    "        self.learning_rate = alpha\n",
    "        \n",
    "    def set_discount_factor(self, gamma: float) -> None: \n",
    "        self.discount_factor = gamma\n",
    "        \n",
    "    def set_random_params(self) -> None:\n",
    "        self.__init__()\n",
    "        \n",
    "\n",
    "class task:\n",
    "    \"\"\"\n",
    "    This class is for a definition of a RL task. The items that \n",
    "    must be defined is an array of possible actions, a state space, \n",
    "    a probability distribution with each of the actions. \n",
    "    \"\"\"\n",
    "    actions: list = []\n",
    "    states: list = []\n",
    "    def __init__(self, actions: list, states: list, prob_actions: dict) -> None:\n",
    "        self.actions = actions\n",
    "        self.states = states\n",
    "        self.prob_actions = prob_actions\n",
    "        \n",
    "class q_learning_agent:\n",
    "    \"\"\"\n",
    "    This is the agent that implements q learning. It will \n",
    "    need a task and a set of parameters (using their respective classes)\n",
    "    \"\"\"\n",
    "    params = None\n",
    "    task = None\n",
    "    policy = None\n",
    "    def __init__(task: task, params = parameters()) -> None:\n",
    "        self.task = task\n",
    "        self.params = params\n",
    "        \n",
    "    def run() -> list:\n",
    "        \"\"\"\n",
    "        This will run the given parameters on the given \n",
    "        task -- the task should contain the gridworld and everything \n",
    "        else needed. It will return the policy, but this will also be stored \n",
    "        as a class variable, so it can be accessed at a later time.\n",
    "        \"\"\"\n",
    "        \n",
    "        "
   ]
  },
  {
   "cell_type": "code",
   "execution_count": 47,
   "metadata": {},
   "outputs": [],
   "source": [
    "params = parameters()"
   ]
  },
  {
   "cell_type": "code",
   "execution_count": null,
   "metadata": {},
   "outputs": [],
   "source": []
  },
  {
   "cell_type": "code",
   "execution_count": null,
   "metadata": {},
   "outputs": [],
   "source": []
  },
  {
   "cell_type": "code",
   "execution_count": null,
   "metadata": {},
   "outputs": [],
   "source": []
  },
  {
   "cell_type": "code",
   "execution_count": null,
   "metadata": {},
   "outputs": [],
   "source": []
  },
  {
   "cell_type": "code",
   "execution_count": null,
   "metadata": {},
   "outputs": [],
   "source": []
  },
  {
   "cell_type": "code",
   "execution_count": null,
   "metadata": {},
   "outputs": [],
   "source": []
  }
 ],
 "metadata": {
  "kernelspec": {
   "display_name": "Python 3",
   "language": "python",
   "name": "python3"
  },
  "language_info": {
   "codemirror_mode": {
    "name": "ipython",
    "version": 3
   },
   "file_extension": ".py",
   "mimetype": "text/x-python",
   "name": "python",
   "nbconvert_exporter": "python",
   "pygments_lexer": "ipython3",
   "version": "3.6.7"
  }
 },
 "nbformat": 4,
 "nbformat_minor": 2
}
