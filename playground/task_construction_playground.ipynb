{
 "cells": [
  {
   "cell_type": "code",
   "execution_count": 3,
   "metadata": {},
   "outputs": [
    {
     "data": {
      "text/plain": [
       "\"\\nHere's a guide on optional typing in python:\\nhttps://medium.com/@ageitgey/learn-how-to-use-static-type-checking-in-python-3-6-in-10-minutes-12c86d72677b\\n\\nI don't claim to be doing it perfectly, but I'm working on it. \\n\""
      ]
     },
     "execution_count": 3,
     "metadata": {},
     "output_type": "execute_result"
    }
   ],
   "source": [
    "import numpy as np\n",
    "import pandas as pd\n",
    "import random\n",
    "import matplotlib.pyplot as plt\n",
    "import scipy.io as sio\n",
    "\"\"\"\n",
    "Here's a guide on optional typing in python:\n",
    "https://medium.com/@ageitgey/learn-how-to-use-static-type-checking-in-python-3-6-in-10-minutes-12c86d72677b\n",
    "\n",
    "I don't claim to be doing it perfectly, but I'm working on it. \n",
    "\"\"\""
   ]
  },
  {
   "cell_type": "code",
   "execution_count": 53,
   "metadata": {},
   "outputs": [],
   "source": [
    "class parameters:\n",
    "    \"\"\"\n",
    "    This is just a shell class to hold the parameters\n",
    "    \"\"\"\n",
    "    learning_rate: float = 0 #alpha, how quick the agent learns\n",
    "    discount_factor: float = 0 # discount rate\n",
    "    exploration_prob: float = 0 #epsilon\n",
    "    def __init__(self):\n",
    "        self.learning_rate = random.uniform(0, 1)\n",
    "        self.discount_faction = random.uniform(0, 1)\n",
    "    def set_params(self, learning_rate: float, discount_factor: float) -> None:\n",
    "        self.learning_rate = learning_rate\n",
    "        self.discount_factor = discount_factor\n",
    "        \n",
    "    def set_learning_rate(self, alpha: float) -> None:\n",
    "        self.learning_rate = alpha\n",
    "        \n",
    "    def set_discount_factor(self, gamma: float) -> None: \n",
    "        self.discount_factor = gamma\n",
    "        \n",
    "\n",
    "    def set_random_params(self) -> None:\n",
    "        self.__init__()\n",
    "        \n",
    "\n",
    "class task:\n",
    "    \"\"\"\n",
    "    This class is for a definition of a RL task. The items that \n",
    "    must be defined is an array of possible actions, a state space, \n",
    "    a probability distribution with each of the actions. \n",
    "    \"\"\"\n",
    "    actions: list = []\n",
    "    states: list = []\n",
    "    def __init__(self, actions: list, states: list, prob_actions: dict) -> None:\n",
    "        self.actions = actions\n",
    "        self.states = states\n",
    "        self.prob_actions = prob_actions\n",
    "        \n",
    "class q_learning_agent:\n",
    "    \"\"\"\n",
    "    This is the agent that implements q learning. It will \n",
    "    need a task and a set of parameters (using their respective classes)\n",
    "    \"\"\"\n",
    "    params = None\n",
    "    task = None\n",
    "    policy = None\n",
    "    qValues = None\n",
    "    def __init__(task: task, params = parameters()) -> None:\n",
    "        self.task = task\n",
    "        self.params = params\n",
    "        self.qValues = {}\n",
    "        \n",
    "    def getqvalue(self, state: str, action: str):\n",
    "        pass\n",
    "    \n",
    "    def compute_value_from_q(self, state):\n",
    "        pass\n",
    "    \n",
    "    def compute_action_from_q(self, state):\n",
    "        pass\n",
    "    \n",
    "    def get_action(self, state):\n",
    "        pass\n",
    "    \n",
    "    def update_q_values(self, state, action, nextstate, reward):\n",
    "        pass\n",
    "        \n",
    "    def run() -> list:\n",
    "        \"\"\"\n",
    "        This will run the given parameters on the given \n",
    "        task -- the task should contain the gridworld and everything \n",
    "        else needed. It will return the policy, but this will also be stored \n",
    "        as a class variable, so it can be accessed at a later time.\n",
    "        \"\"\"\n",
    "        \n",
    "        "
   ]
  },
  {
   "cell_type": "code",
   "execution_count": 47,
   "metadata": {},
   "outputs": [],
   "source": [
    "params = parameters()"
   ]
  },
  {
   "cell_type": "code",
   "execution_count": 16,
   "metadata": {},
   "outputs": [
    {
     "data": {
      "text/plain": [
       "2.0"
      ]
     },
     "execution_count": 16,
     "metadata": {},
     "output_type": "execute_result"
    }
   ],
   "source": [
    "mat_contents = sio.loadmat('../data/pilot_data_2odor_8020prob.mat')\n",
    "mat_contents['group_setsize2_result'][0][0][0]"
   ]
  },
  {
   "cell_type": "code",
   "execution_count": 55,
   "metadata": {},
   "outputs": [
    {
     "name": "stdout",
     "output_type": "stream",
     "text": [
      "Collecting scipy\n",
      "  Downloading https://files.pythonhosted.org/packages/7f/5f/c48860704092933bf1c4c1574a8de1ffd16bf4fde8bab190d747598844b2/scipy-1.2.1-cp36-cp36m-manylinux1_x86_64.whl (24.8MB)\n",
      "\u001b[K    100% |████████████████████████████████| 24.8MB 89kB/s s eta 0:00:01\n",
      "\u001b[?25hCollecting numpy>=1.8.2 (from scipy)\n",
      "  Using cached https://files.pythonhosted.org/packages/35/d5/4f8410ac303e690144f0a0603c4b8fd3b986feb2749c435f7cdbb288f17e/numpy-1.16.2-cp36-cp36m-manylinux1_x86_64.whl\n",
      "Installing collected packages: numpy, scipy\n",
      "Successfully installed numpy-1.16.2 scipy-1.2.1\n"
     ]
    }
   ],
   "source": []
  },
  {
   "cell_type": "code",
   "execution_count": null,
   "metadata": {},
   "outputs": [],
   "source": []
  },
  {
   "cell_type": "code",
   "execution_count": null,
   "metadata": {},
   "outputs": [],
   "source": []
  },
  {
   "cell_type": "code",
   "execution_count": null,
   "metadata": {},
   "outputs": [],
   "source": []
  },
  {
   "cell_type": "code",
   "execution_count": null,
   "metadata": {},
   "outputs": [],
   "source": []
  }
 ],
 "metadata": {
  "kernelspec": {
   "display_name": "Python 3",
   "language": "python",
   "name": "python3"
  },
  "language_info": {
   "codemirror_mode": {
    "name": "ipython",
    "version": 3
   },
   "file_extension": ".py",
   "mimetype": "text/x-python",
   "name": "python",
   "nbconvert_exporter": "python",
   "pygments_lexer": "ipython3",
   "version": "3.6.7"
  }
 },
 "nbformat": 4,
 "nbformat_minor": 2
}
