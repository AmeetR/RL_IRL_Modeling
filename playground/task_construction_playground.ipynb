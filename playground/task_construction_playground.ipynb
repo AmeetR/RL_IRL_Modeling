{
 "cells": [
  {
   "cell_type": "code",
   "execution_count": 3,
   "metadata": {},
   "outputs": [],
   "source": [
    "import numpy as np\n",
    "import pandas as pd\n",
    "import random"
   ]
  },
  {
   "cell_type": "code",
   "execution_count": 29,
   "metadata": {},
   "outputs": [],
   "source": [
    "class parameters:\n",
    "    \"\"\"\n",
    "    This is just a shell class to hold the parameters\n",
    "    \"\"\"\n",
    "    learning_rate: float = 0 #alpha, how quick the agent learns\n",
    "    discount_factor: float = 0 #gamma, explore/exploit\n",
    "    def __init__(self):\n",
    "        self.learning_rate = random.uniform(0, 1)\n",
    "        self.discount_faction = random.uniform(0, 1)\n",
    "    def set_params(self, learning_rate, discount_factor):\n",
    "        self.learning_rate = learning_rate\n",
    "        self.discount_factor = discount_factor\n",
    "    def set_learning_rate(self, alpha: float):\n",
    "        self.learning_rate = alpha\n",
    "    def set_discount_factor(self, gamma: float): \n",
    "        self.discount_factor = gamma\n",
    "    def set_random_params(self):\n",
    "        self.__init__()\n",
    "        \n",
    "\n",
    "class task:\n",
    "    \"\"\"\n",
    "    This class is for a definition of a RL task. The items that \n",
    "    must be defined is an array of possible actions, a state space, \n",
    "    a probability distribution with each of the actions. \n",
    "    \"\"\"\n",
    "    actions = []\n",
    "    states = []\n",
    "    params = parameters()\n",
    "    def __init__(self, actions, states, prob_actions):\n",
    "        self.actions = actions\n",
    "        self.states = states\n",
    "        self.prob_actions = prob_actions"
   ]
  },
  {
   "cell_type": "code",
   "execution_count": 30,
   "metadata": {},
   "outputs": [],
   "source": [
    "params = parameters()"
   ]
  },
  {
   "cell_type": "code",
   "execution_count": 34,
   "metadata": {},
   "outputs": [
    {
     "name": "stdout",
     "output_type": "stream",
     "text": [
      "0.10096246572839318\n"
     ]
    }
   ],
   "source": [
    "\n",
    "print(params.learning_rate)\n",
    "params.set_random_params()"
   ]
  },
  {
   "cell_type": "code",
   "execution_count": null,
   "metadata": {},
   "outputs": [],
   "source": []
  }
 ],
 "metadata": {
  "kernelspec": {
   "display_name": "Python 3",
   "language": "python",
   "name": "python3"
  },
  "language_info": {
   "codemirror_mode": {
    "name": "ipython",
    "version": 3
   },
   "file_extension": ".py",
   "mimetype": "text/x-python",
   "name": "python",
   "nbconvert_exporter": "python",
   "pygments_lexer": "ipython3",
   "version": "3.6.7"
  }
 },
 "nbformat": 4,
 "nbformat_minor": 2
}
